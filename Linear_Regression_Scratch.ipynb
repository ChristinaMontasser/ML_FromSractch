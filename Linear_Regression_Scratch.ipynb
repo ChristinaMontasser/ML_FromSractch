{
 "cells": [
  {
   "cell_type": "code",
   "execution_count": 1,
   "metadata": {},
   "outputs": [],
   "source": [
    "\n",
    "from contextlib import nullcontext\n",
    "import numpy as np\n",
    "from numpy.core.numeric import outer\n",
    "import pandas as pd\n",
    "from sklearn.model_selection import train_test_split\n",
    "from numpy.core.fromnumeric import shape, size\n",
    "import seaborn as sns\n"
   ]
  },
  {
   "cell_type": "code",
   "execution_count": 3,
   "metadata": {},
   "outputs": [],
   "source": [
    "def Loss(Y, Y_predicted):\n",
    "    return(sum(np.square(Y - Y_predicted))/Y.size)\n",
    "\n",
    "def LossAbs(Y, Y_predicted):\n",
    "    return(sum(np.absolute(Y - Y_predicted))/Y.size)\n"
   ]
  },
  {
   "cell_type": "code",
   "execution_count": 6,
   "metadata": {},
   "outputs": [],
   "source": [
    "class Data:\n",
    "    flag=0\n",
    "    X_min=0\n",
    "    X_max=0\n",
    "\n",
    "    def outliers(self,X, Y):\n",
    "        a = X\n",
    "        mean, stdev = np.mean(a, axis=0), np.std(a, axis=0)\n",
    "        outliers = ((np.abs(a[:,0] - mean[0]) > stdev[0])\n",
    "                    * (np.abs(a[:,1] - mean[1]) > stdev[1])\n",
    "                    * (np.abs(a[:,2] - mean[2]) > stdev[2]))\n",
    "        # print(shape(a[~outliers]))\n",
    "        # print (shape(Y[~outliers]))\n",
    "        return X[~outliers], Y[~outliers]\n",
    "    \n",
    "    def normalization(self, X):\n",
    "        self.X_min=X.min()\n",
    "        self.X_max=X.max()\n",
    "        return((X-X.min())/(X.max()-X.min()))\n",
    "\n",
    "    #This function expect all indeces before lableIndex are feature indeces \n",
    "    def extract(self, Location, desierdNumFeauter, LableIndex):\n",
    "        start=0\n",
    "        myfile= pd.read_csv(Location)\n",
    "        if(myfile.index[0]==id):\n",
    "            start =1\n",
    "        #Select feature function based on Pearson’s Correlation \n",
    "        X = myfile.iloc[:, start:desierdNumFeauter].values\n",
    "        Y = myfile.iloc[:, LableIndex].values\n",
    "\n",
    "        if(np.ptp(X, axis=0).max()-np.ptp(X, axis=0).min()>1000):\n",
    "            X= self.normalization(X)\n",
    "            self.flag=1\n",
    "        return X, Y\n",
    "\n",
    "    def normalize_Vector(self, X):\n",
    "        return (X-self.X_min)/(self.X_max-self.X_min)\n"
   ]
  },
  {
   "cell_type": "code",
   "execution_count": 7,
   "metadata": {},
   "outputs": [],
   "source": [
    "class Gradiant_Descent:  \n",
    "    weight=0\n",
    "    w_0=0\n",
    "    normData=nullcontext\n",
    "    def __init__(self, norm=nullcontext):\n",
    "        self.normData=norm\n",
    "        \n",
    "    def fit(self, X, Y, learning_rate=0.0001, iterations=10000):\n",
    "        self.weight = np.zeros(shape(X)[1])\n",
    "        Y_pred= np.dot(X, self.weight)+self.w_0\n",
    "        while(iterations):\n",
    "            weightDef= -2*np.dot(np.transpose((Y-Y_pred)), X)\n",
    "            w_0Def = -2*sum(Y-Y_pred)\n",
    "            self.weight = self.weight-(learning_rate*weightDef)\n",
    "            self.w_0 = self.w_0 - learning_rate*w_0Def\n",
    "            Y_pred= np.dot(X, self.weight)+self.w_0\n",
    "            iterations-=1\n",
    "    \n",
    "    def predict(self, X_test):\n",
    "        Y_predict = np.dot(X_test, self.weight)+ self.w_0\n",
    "        return Y_predict\n",
    "    \n",
    "    def predict_value(self ,X_vector):\n",
    "        if(self.normData!=nullcontext and self.normData.flag==1):\n",
    "            X_vector= self.normData.normalize_Vector(X_vector)\n",
    "\n",
    "        Y_value=np.dot(X_vector, self.weight)+ self.w_0\n",
    "        return Y_value"
   ]
  },
  {
   "cell_type": "code",
   "execution_count": 8,
   "metadata": {},
   "outputs": [
    {
     "name": "stdout",
     "output_type": "stream",
     "text": [
      "\n",
      "Random data\n",
      "Random data generated model Loss 0.0 \n",
      "Housing price weight vector [5.00001552 3.00003578 1.50003336] and w_0 5.999956065529417\n",
      "Predicted value based on vector [0.5 , 0.9, 0.7]: 12.250019385129526 \n"
     ]
    }
   ],
   "source": [
    "#Random Number\n",
    "X = np.random.rand(1000, 3)\n",
    "Y = np.dot(X, (5, 3, 1.5))+6 \n",
    "X_train, X_test, Y_train, Y_test = train_test_split(X, Y) \n",
    "myModel = Gradiant_Descent()\n",
    "myModel.fit(X_train, Y_train, iterations=1000)\n",
    "Y_predict= myModel.predict(X_test)\n",
    "print()\n",
    "print(\"Random data\")\n",
    "print(\"Random data generated model Loss {} \".format(np.around(Loss(Y_test, Y_predict), decimals=9)))\n",
    "print(\"Housing price weight vector {} and w_0 {}\".format(myModel.weight, myModel.w_0))\n",
    "print(\"Predicted value based on vector [0.5 , 0.9, 0.7]: {} \".format(myModel.predict_value(np.array([0.5 , 0.9, 0.7]))))"
   ]
  },
  {
   "cell_type": "code",
   "execution_count": 9,
   "metadata": {},
   "outputs": [
    {
     "name": "stdout",
     "output_type": "stream",
     "text": [
      "\n",
      "Housing price\n",
      "Housing price model Loss 73757181515.8762 \n",
      "Housing price weight vector [2265903.96915038   10472.7251149     8144.99573262] and w_0 -211989.87460963725\n",
      "Predicted value based on vector [6.33452401e+04 7.18823609e+00 5.58672866e+00] : 1120688.905544591 \n"
     ]
    }
   ],
   "source": [
    "#House Price\n",
    "myData = Data()\n",
    "X, Y=myData.extract(r\"E:\\studying\\3\\ML\\Labs\\Task2\\USA_Housing.csv\", desierdNumFeauter= 3, LableIndex= 5)\n",
    "X_train, X_test, Y_train, Y_test = train_test_split(X, Y) \n",
    "\n",
    "X_noOut, Y_nonOut = myData.outliers(X_train, Y_train)\n",
    "\n",
    "houseModel = Gradiant_Descent(myData)\n",
    "houseModel.fit(X_noOut, Y_nonOut)\n",
    "Y_predict= houseModel.predict(X_test)\n",
    "print()\n",
    "print(\"Housing price\")\n",
    "print(\"Housing price model Loss {} \".format(Loss(Y_test, Y_predict)))\n",
    "print(\"Housing price weight vector {} and w_0 {}\".format(houseModel.weight, houseModel.w_0))\n",
    "X_value = np.array([63345.24005, 7.188236095, 5.586728665])\n",
    "Y_pr=houseModel.predict_value(X_value)\n",
    "print(\"Predicted value based on vector {} : {} \".format(X_value, Y_pr))"
   ]
  }
 ],
 "metadata": {
  "interpreter": {
   "hash": "02091e4753613aaa25cfbd85ae4eb5d84c414c1685b7c0fac4681c9e872972a3"
  },
  "kernelspec": {
   "display_name": "Python 3.9.5 64-bit",
   "language": "python",
   "name": "python3"
  },
  "language_info": {
   "codemirror_mode": {
    "name": "ipython",
    "version": 3
   },
   "file_extension": ".py",
   "mimetype": "text/x-python",
   "name": "python",
   "nbconvert_exporter": "python",
   "pygments_lexer": "ipython3",
   "version": "3.9.5"
  },
  "orig_nbformat": 4
 },
 "nbformat": 4,
 "nbformat_minor": 2
}
