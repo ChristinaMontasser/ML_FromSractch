{
 "cells": [
  {
   "cell_type": "code",
   "execution_count": 6,
   "metadata": {},
   "outputs": [],
   "source": [
    "import random\n",
    "import pandas as pd\n",
    "import numpy as np\n",
    "import math\n",
    "from sklearn.datasets import load_iris\n",
    "from sklearn.naive_bayes import GaussianNB\n",
    "from sklearn.model_selection import train_test_split\n",
    "from mlxtend.plotting import plot_decision_regions\n",
    "import matplotlib.pyplot as plt\n",
    "import seaborn as sns\n",
    "from sklearn.metrics import accuracy_score\n",
    "\n"
   ]
  },
  {
   "cell_type": "code",
   "execution_count": 2,
   "metadata": {},
   "outputs": [],
   "source": [
    "def train_validate_test_split(data,labels, testRatio = 0.25, valRatio=0):\n",
    "    arraySize = len(data)\n",
    "    testSetData = list()\n",
    "    testSetLabels = list()\n",
    "    valSetData = list()\n",
    "    valSetLabels = list()\n",
    "    while(len(testSetData) < math.floor(arraySize*testRatio)):\n",
    "        ind = random.randrange(len(data))\n",
    "        testSetData.append(data[ind])\n",
    "        testSetLabels.append(labels[ind])\n",
    "        data = np.delete(data,ind,axis = 0)\n",
    "        labels = np.delete(labels, ind, axis = 0)\n",
    "\n",
    "    arraySize = len(data)\n",
    "    while (len(valSetData) < math.floor(arraySize * valRatio)):\n",
    "        ind = random.randrange(len(data))\n",
    "        valSetData.append(data[ind])\n",
    "        valSetLabels.append(labels[ind])\n",
    "        data = np.delete(data, ind, axis = 0)\n",
    "        labels = np.delete(labels, ind, axis = 0)\n",
    "\n",
    "    test_Set_Data = np.array(testSetData)\n",
    "    test_Set_Labels = np.array(testSetLabels)\n",
    "    val_Set_Data = np.array(valSetData)\n",
    "    val_Set_Labels = np.array(valSetLabels)\n",
    "    if(valRatio == 0):\n",
    "        return data, test_Set_Data, labels, test_Set_Labels\n",
    "    else:\n",
    "        return data, val_Set_Data, test_Set_Data, labels, val_Set_Labels, test_Set_Labels\n"
   ]
  },
  {
   "cell_type": "code",
   "execution_count": 3,
   "metadata": {},
   "outputs": [],
   "source": [
    "def calculate_accuracy(predicted_y, y):\n",
    "    guessWrong = 0\n",
    "    if(len(predicted_y) == len(y)):\n",
    "        ind = 0\n",
    "        for i in predicted_y:\n",
    "            if(i != y[ind]):\n",
    "                guessWrong = guessWrong + 1\n",
    "            ind+=1\n",
    "        acc = ( (len(predicted_y)- guessWrong) / len(predicted_y))\n",
    "        return acc\n",
    "    return 0\n",
    "\n"
   ]
  },
  {
   "cell_type": "code",
   "execution_count": 4,
   "metadata": {},
   "outputs": [
    {
     "name": "stdout",
     "output_type": "stream",
     "text": [
      "[0 0 0 0 0 0 0 0 0 0 0 0 0 0 0 0 0 0 0 0 0 0 0 0 0 0 0 0 0 0 0 0 0 0 0 0 0\n",
      " 0 0 0 0 0 0 0 0 0 0 0 0 0 1 1 1 1 1 1 1 1 1 1 1 1 1 1 1 1 1 1 1 1 1 1 1 1\n",
      " 1 1 1 1 1 1 1 1 1 1 1 1 1 1 1 1 1 1 1 1 1 1 1 1 1 1 2 2 2 2 2 2 2 2 2 2 2\n",
      " 2 2 2 2 2 2 2 2 2 2 2 2 2 2 2 2 2 2 2 2 2 2 2 2 2 2 2 2 2 2 2 2 2 2 2 2 2\n",
      " 2 2]\n"
     ]
    }
   ],
   "source": [
    "\n",
    "iris = load_iris() # Sepal Length, Sepal Width, Petal Length and Petal Width\n",
    "X = iris.data\n",
    "Y = iris.target\n",
    "print(Y)"
   ]
  },
  {
   "cell_type": "code",
   "execution_count": 14,
   "metadata": {},
   "outputs": [
    {
     "name": "stdout",
     "output_type": "stream",
     "text": [
      "Our train_validate_test_split with my accuracy function: 0.9459459459459459\n",
      "Our train_validate_test_split with  Built-in accuracy: 0.9459459459459459\n"
     ]
    }
   ],
   "source": [
    "#My split function\n",
    "X_train, X_test, Y_train, Y_test = train_validate_test_split(X, Y, testRatio = 0.25)\n",
    "gaussNB = GaussianNB()\n",
    "y_pred = gaussNB.fit(X_train, Y_train).predict(X_test)\n",
    "print(\"Our train_validate_test_split with my accuracy function: {}\".format(calculate_accuracy(y_pred, Y_test)))\n",
    "print(\"Our train_validate_test_split with  Built-in accuracy: {}\".format(accuracy_score(y_pred,Y_test)))\n",
    "\n",
    "\n"
   ]
  },
  {
   "cell_type": "code",
   "execution_count": 15,
   "metadata": {},
   "outputs": [
    {
     "name": "stdout",
     "output_type": "stream",
     "text": [
      "Built-in train_test_split with my accuracy function: 0.9210526315789473\n",
      "Built-in train_test_split with Built-in accuracy: 0.9210526315789473\n"
     ]
    }
   ],
   "source": [
    "#Built-on spilt function\n",
    "X_train_1, X_test_1, Y_train_1, Y_test_1 = train_test_split(X, Y, test_size = 0.25)\n",
    "gauss = GaussianNB()\n",
    "y_pred_1 = gauss.fit(X_train_1, Y_train_1).predict(X_test_1)\n",
    "print(\"Built-in train_test_split with my accuracy function: {}\".format(calculate_accuracy(y_pred_1, Y_test_1)))\n",
    "print(\"Built-in train_test_split with Built-in accuracy: {}\".format(accuracy_score(y_pred_1,Y_test_1)))\n"
   ]
  },
  {
   "cell_type": "code",
   "execution_count": 9,
   "metadata": {},
   "outputs": [
    {
     "data": {
      "image/png": "[encoded data removed]",
      "text/plain": [
       "<Figure size 432x288 with 1 Axes>"
      ]
     },
     "metadata": {
      "needs_background": "light"
     },
     "output_type": "display_data"
    }
   ],
   "source": [
    "#Sending 2 features \n",
    "X_up = X_train[:,[0,2]]\n",
    "plot_decision_regions(X_up, Y_train, clf=GaussianNB().fit(X_up,Y_train), legend=2)\n",
    "# Adding axes annotations\n",
    "plt.xlabel('sepal length')\n",
    "plt.ylabel('sepal width')\n",
    "plt.title('iris GaussianNB')\n",
    "plt.show()"
   ]
  }
 ],
 "metadata": {
  "interpreter": {
   "hash": "02091e4753613aaa25cfbd85ae4eb5d84c414c1685b7c0fac4681c9e872972a3"
  },
  "kernelspec": {
   "display_name": "Python 3.9.5 64-bit",
   "language": "python",
   "name": "python3"
  },
  "language_info": {
   "codemirror_mode": {
    "name": "ipython",
    "version": 3
   },
   "file_extension": ".py",
   "mimetype": "text/x-python",
   "name": "python",
   "nbconvert_exporter": "python",
   "pygments_lexer": "ipython3",
   "version": "3.9.5"
  },
  "orig_nbformat": 4
 },
 "nbformat": 4,
 "nbformat_minor": 2
}
